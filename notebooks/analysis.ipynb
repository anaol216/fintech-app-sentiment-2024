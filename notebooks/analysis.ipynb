{
 "cells": [
  {
   "cell_type": "code",
   "execution_count": 1,
   "id": "bfe636cb",
   "metadata": {},
   "outputs": [
    {
     "name": "stdout",
     "output_type": "stream",
     "text": [
      "Project root added to sys.path: d:\\week-2\\fintech-app-sentiment-2024\n"
     ]
    },
    {
     "name": "stderr",
     "output_type": "stream",
     "text": [
      "d:\\week-2\\fintech-app-sentiment-2024\\venv\\Lib\\site-packages\\tqdm\\auto.py:21: TqdmWarning: IProgress not found. Please update jupyter and ipywidgets. See https://ipywidgets.readthedocs.io/en/stable/user_install.html\n",
      "  from .autonotebook import tqdm as notebook_tqdm\n"
     ]
    }
   ],
   "source": [
    "import os\n",
    "import sys\n",
    "\n",
    "# Navigate to the project root directory\n",
    "project_root = os.path.abspath(os.path.join(os.getcwd(), '..'))\n",
    "\n",
    "# Add the project root to the system path\n",
    "if project_root not in sys.path:\n",
    "    sys.path.append(project_root)\n",
    "\n",
    "# Verify the path was added\n",
    "print(\"Project root added to sys.path:\", project_root)\n",
    "# Cell 2: Import modules and run the analysis pipeline\n",
    "\n",
    "import pandas as pd\n",
    "from src.analyzer import run_analysis_pipeline\n",
    "from src.preprocess import save_clean_data\n",
    "from src.analyzer import aggregate_data"
   ]
  },
  {
   "cell_type": "code",
   "execution_count": null,
   "id": "1f96ff29",
   "metadata": {},
   "outputs": [
    {
     "name": "stderr",
     "output_type": "stream",
     "text": [
      "d:\\week-2\\fintech-app-sentiment-2024\\venv\\Lib\\site-packages\\tqdm\\auto.py:21: TqdmWarning: IProgress not found. Please update jupyter and ipywidgets. See https://ipywidgets.readthedocs.io/en/stable/user_install.html\n",
      "  from .autonotebook import tqdm as notebook_tqdm\n"
     ]
    },
    {
     "name": "stdout",
     "output_type": "stream",
     "text": [
      "Downloading spaCy model 'en_core_web_sm'...\n",
      "\u001b[38;5;2m✔ Download and installation successful\u001b[0m\n",
      "You can now load the package via spacy.load('en_core_web_sm')\n",
      "\u001b[38;5;3m⚠ Restart to reload dependencies\u001b[0m\n",
      "If you are in a Jupyter or Colab notebook, you may need to restart Python in\n",
      "order to load all the package's dependencies. You can do this by selecting the\n",
      "'Restart kernel' or 'Restart runtime' option.\n",
      "Successfully loaded 1200 reviews from d:\\week-2\\fintech-app-sentiment-2024\\data\\raw\\bank_reviews_clean.csv\n",
      "\n",
      "--- Starting Sentiment and Thematic Analysis ---\n"
     ]
    },
    {
     "name": "stderr",
     "output_type": "stream",
     "text": [
      "d:\\week-2\\fintech-app-sentiment-2024\\venv\\Lib\\site-packages\\huggingface_hub\\file_download.py:143: UserWarning: `huggingface_hub` cache-system uses symlinks by default to efficiently store duplicated files but your machine does not support them in C:\\Users\\hp\\.cache\\huggingface\\hub\\models--distilbert-base-uncased-finetuned-sst-2-english. Caching files will still work but in a degraded version that might require more space on your disk. This warning can be disabled by setting the `HF_HUB_DISABLE_SYMLINKS_WARNING` environment variable. For more details, see https://huggingface.co/docs/huggingface_hub/how-to-cache#limitations.\n",
      "To support symlinks on Windows, you either need to activate Developer Mode or to run Python as an administrator. In order to activate developer mode, see this article: https://docs.microsoft.com/en-us/windows/apps/get-started/enable-your-device-for-development\n",
      "  warnings.warn(message)\n",
      "Xet Storage is enabled for this repo, but the 'hf_xet' package is not installed. Falling back to regular HTTP download. For better performance, install the package with: `pip install huggingface_hub[hf_xet]` or `pip install hf_xet`\n",
      "Device set to use cpu\n",
      "d:\\week-2\\fintech-app-sentiment-2024\\venv\\Lib\\site-packages\\transformers\\pipelines\\text_classification.py:111: UserWarning: `return_all_scores` is now deprecated,  if want a similar functionality use `top_k=None` instead of `return_all_scores=True` or `top_k=1` instead of `return_all_scores=False`.\n",
      "  warnings.warn(\n"
     ]
    },
    {
     "name": "stdout",
     "output_type": "stream",
     "text": [
      "\n",
      "--- Analyzed Data Preview ---\n"
     ]
    },
    {
     "data": {
      "text/html": [
       "<div>\n",
       "<style scoped>\n",
       "    .dataframe tbody tr th:only-of-type {\n",
       "        vertical-align: middle;\n",
       "    }\n",
       "\n",
       "    .dataframe tbody tr th {\n",
       "        vertical-align: top;\n",
       "    }\n",
       "\n",
       "    .dataframe thead th {\n",
       "        text-align: right;\n",
       "    }\n",
       "</style>\n",
       "<table border=\"1\" class=\"dataframe\">\n",
       "  <thead>\n",
       "    <tr style=\"text-align: right;\">\n",
       "      <th></th>\n",
       "      <th>review</th>\n",
       "      <th>rating</th>\n",
       "      <th>date</th>\n",
       "      <th>bank</th>\n",
       "      <th>source</th>\n",
       "      <th>sentiment_label</th>\n",
       "      <th>sentiment_score</th>\n",
       "      <th>identified_themes</th>\n",
       "    </tr>\n",
       "  </thead>\n",
       "  <tbody>\n",
       "    <tr>\n",
       "      <th>0</th>\n",
       "      <td>good</td>\n",
       "      <td>5</td>\n",
       "      <td>2025-08-17</td>\n",
       "      <td>CBE</td>\n",
       "      <td>Google Play</td>\n",
       "      <td>positive</td>\n",
       "      <td>0.999816</td>\n",
       "      <td>Other</td>\n",
       "    </tr>\n",
       "    <tr>\n",
       "      <th>1</th>\n",
       "      <td>this app is the good apps</td>\n",
       "      <td>5</td>\n",
       "      <td>2025-08-17</td>\n",
       "      <td>CBE</td>\n",
       "      <td>Google Play</td>\n",
       "      <td>positive</td>\n",
       "      <td>0.999853</td>\n",
       "      <td>Other</td>\n",
       "    </tr>\n",
       "    <tr>\n",
       "      <th>2</th>\n",
       "      <td>bayeegar</td>\n",
       "      <td>5</td>\n",
       "      <td>2025-08-15</td>\n",
       "      <td>CBE</td>\n",
       "      <td>Google Play</td>\n",
       "      <td>positive</td>\n",
       "      <td>0.749315</td>\n",
       "      <td>Other</td>\n",
       "    </tr>\n",
       "    <tr>\n",
       "      <th>3</th>\n",
       "      <td>አሪፋ ነዉ ነገር ግን Recent Transaction በጣም የቆየዉን ነዉ ...</td>\n",
       "      <td>2</td>\n",
       "      <td>2025-08-15</td>\n",
       "      <td>CBE</td>\n",
       "      <td>Google Play</td>\n",
       "      <td>negative</td>\n",
       "      <td>0.952693</td>\n",
       "      <td>Transaction Performance</td>\n",
       "    </tr>\n",
       "    <tr>\n",
       "      <th>4</th>\n",
       "      <td>congra ethio</td>\n",
       "      <td>5</td>\n",
       "      <td>2025-08-15</td>\n",
       "      <td>CBE</td>\n",
       "      <td>Google Play</td>\n",
       "      <td>positive</td>\n",
       "      <td>0.980097</td>\n",
       "      <td>Other</td>\n",
       "    </tr>\n",
       "  </tbody>\n",
       "</table>\n",
       "</div>"
      ],
      "text/plain": [
       "                                              review  rating        date bank  \\\n",
       "0                                               good       5  2025-08-17  CBE   \n",
       "1                          this app is the good apps       5  2025-08-17  CBE   \n",
       "2                                           bayeegar       5  2025-08-15  CBE   \n",
       "3  አሪፋ ነዉ ነገር ግን Recent Transaction በጣም የቆየዉን ነዉ ...       2  2025-08-15  CBE   \n",
       "4                                       congra ethio       5  2025-08-15  CBE   \n",
       "\n",
       "        source sentiment_label  sentiment_score        identified_themes  \n",
       "0  Google Play        positive         0.999816                    Other  \n",
       "1  Google Play        positive         0.999853                    Other  \n",
       "2  Google Play        positive         0.749315                    Other  \n",
       "3  Google Play        negative         0.952693  Transaction Performance  \n",
       "4  Google Play        positive         0.980097                    Other  "
      ]
     },
     "metadata": {},
     "output_type": "display_data"
    },
    {
     "name": "stdout",
     "output_type": "stream",
     "text": [
      "Total reviews analyzed: 1200\n",
      "Cleaned data saved to d:\\week-2\\fintech-app-sentiment-2024\\data\\processed\\analyzed_reviews.csv\n"
     ]
    }
   ],
   "source": [
    "\n",
    "\n",
    "# Define the path to the clean data from Task 1\n",
    "clean_data_path = os.path.join(project_root, 'data', 'raw', 'bank_reviews_clean.csv')\n",
    "\n",
    "# Load the clean data\n",
    "try:\n",
    "    clean_df = pd.read_csv(clean_data_path)\n",
    "    print(f\"Successfully loaded {len(clean_df)} reviews from {clean_data_path}\")\n",
    "except FileNotFoundError:\n",
    "    print(f\"Error: The file '{clean_data_path}' was not found. Please run Task 1 first.\")\n",
    "    clean_df = pd.DataFrame() \n",
    "\n",
    "# Run the analysis pipeline\n",
    "if not clean_df.empty:\n",
    "    print(\"\\n--- Starting Sentiment and Thematic Analysis ---\")\n",
    "    analyzed_df = run_analysis_pipeline(clean_df)\n",
    "    \n",
    "    # Display a preview of the analyzed data\n",
    "    print(\"\\n--- Analyzed Data Preview ---\")\n",
    "    display(analyzed_df.head())\n",
    "    print(f\"Total reviews analyzed: {len(analyzed_df)}\")\n",
    "    \n",
    "    # Save the final analyzed data to the processed folder\n",
    "    processed_dir = os.path.join(project_root, 'data', 'processed')\n",
    "    os.makedirs(processed_dir, exist_ok=True)\n",
    "    \n",
    "    save_path = os.path.join(processed_dir, 'analyzed_reviews.csv')\n",
    "    save_clean_data(analyzed_df, save_path)"
   ]
  },
  {
   "cell_type": "code",
   "execution_count": null,
   "id": "aa4641dd",
   "metadata": {},
   "outputs": [],
   "source": [
    "# Cell 3: Data Aggregation and Visualization\n",
    "\n",
    "import matplotlib.pyplot as plt\n",
    "import seaborn as sns\n",
    "\n",
    "# Make sure you have the analyzed DataFrame from the previous cell\n",
    "if 'analyzed_df' in locals() and not analyzed_df.empty:\n",
    "    print(\"\\n--- Aggregating and Visualizing Data ---\")\n",
    "    \n",
    "    # Aggregate sentiment and themes using the new function\n",
    "    sentiment_agg, theme_agg = aggregate_data(analyzed_df)\n",
    "    \n",
    "    # Display the aggregated data\n",
    "    print(\"\\nMean Sentiment Score by Bank and Rating:\")\n",
    "    display(sentiment_agg)\n",
    "    \n",
    "    print(\"\\nTop Themes by Bank:\")\n",
    "    display(theme_agg)\n",
    "\n",
    "    # Visualization 1: Mean Sentiment by Bank and Rating\n",
    "    plt.figure(figsize=(10, 6))\n",
    "    sns.barplot(x='rating', y='mean_sentiment', hue='bank', data=sentiment_agg)\n",
    "    plt.title('Mean Sentiment Score by Bank and Rating')\n",
    "    plt.xlabel('Rating (Stars)')\n",
    "    plt.ylabel('Mean Sentiment Score (-1 to 1)')\n",
    "    plt.show()\n",
    "\n",
    "    # Visualization 2: Top Themes by Bank\n",
    "    plt.figure(figsize=(14, 8))\n",
    "    sns.barplot(x='count', y='theme', hue='bank', data=theme_agg, orient='h')\n",
    "    plt.title('Frequency of Identified Themes by Bank')\n",
    "    plt.xlabel('Count of Reviews')\n",
    "    plt.ylabel('Identified Theme')\n",
    "    plt.show()\n",
    "else:\n",
    "    print(\"No analyzed data found. Please run the previous cell first.\")"
   ]
  }
 ],
 "metadata": {
  "kernelspec": {
   "display_name": "venv",
   "language": "python",
   "name": "python3"
  },
  "language_info": {
   "codemirror_mode": {
    "name": "ipython",
    "version": 3
   },
   "file_extension": ".py",
   "mimetype": "text/x-python",
   "name": "python",
   "nbconvert_exporter": "python",
   "pygments_lexer": "ipython3",
   "version": "3.11.9"
  }
 },
 "nbformat": 4,
 "nbformat_minor": 5
}
