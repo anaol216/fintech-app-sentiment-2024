{
 "cells": [
  {
   "cell_type": "code",
   "execution_count": 1,
   "id": "ec5c571a",
   "metadata": {},
   "outputs": [
    {
     "name": "stdout",
     "output_type": "stream",
     "text": [
      "Project root added to sys.path: d:\\week-2\\fintech-app-sentiment-2024\n"
     ]
    }
   ],
   "source": [
    "import os\n",
    "import sys\n",
    "\n",
    "# Navigate to the project root directory\n",
    "project_root = os.path.abspath(os.path.join(os.getcwd(), '..'))\n",
    "\n",
    "# Add the project root to the system path\n",
    "if project_root not in sys.path:\n",
    "    sys.path.append(project_root)\n",
    "\n",
    "print(\"Project root added to sys.path:\", project_root)"
   ]
  },
  {
   "cell_type": "code",
   "execution_count": 5,
   "id": "9c32e254",
   "metadata": {},
   "outputs": [
    {
     "name": "stdout",
     "output_type": "stream",
     "text": [
      "Successfully loaded 1200 analyzed reviews.\n",
      "Successfully connected to PostgreSQL Database.\n",
      "Tables created successfully (or already exist).\n",
      "Banks table populated.\n"
     ]
    },
    {
     "name": "stderr",
     "output_type": "stream",
     "text": [
      "d:\\week-2\\fintech-app-sentiment-2024\\src\\db_loader.py:82: UserWarning: pandas only supports SQLAlchemy connectable (engine/connection) or database string URI or sqlite3 DBAPI2 connection. Other DBAPI2 objects are not tested. Please consider using SQLAlchemy.\n",
      "  banks_df = pd.read_sql(\"SELECT bank_id, bank_name FROM banks\", con=connection)\n"
     ]
    },
    {
     "name": "stdout",
     "output_type": "stream",
     "text": [
      "Successfully loaded 1200 reviews into the database.\n",
      "Database connection closed.\n"
     ]
    }
   ],
   "source": [
    "# Cell 2: Load Data and Connect to Database\n",
    "\n",
    "import pandas as pd\n",
    "from src.db_loader import get_db_connection, create_tables, load_data_to_postgres\n",
    "\n",
    "# Define paths\n",
    "analyzed_data_path = os.path.join(project_root, 'data', 'processed', 'analyzed_reviews.csv')\n",
    "\n",
    "# Load the analyzed data\n",
    "try:\n",
    "    analyzed_df = pd.read_csv(analyzed_data_path)\n",
    "    print(f\"Successfully loaded {len(analyzed_df)} analyzed reviews.\")\n",
    "except FileNotFoundError:\n",
    "    print(f\"Error: The file '{analyzed_data_path}' was not found. Please run Task 2 first.\")\n",
    "    analyzed_df = pd.DataFrame() \n",
    "\n",
    "# Set environment variable for DB password\n",
    "os.environ['DB_PASSWORD'] = 'kiya'\n",
    "\n",
    "# Get database connection\n",
    "connection = get_db_connection()\n",
    "\n",
    "if connection and not analyzed_df.empty:\n",
    "    # Step 1: Create the tables\n",
    "    create_tables(connection)\n",
    "    \n",
    "    # Step 2: Load the data\n",
    "    load_data_to_postgres(analyzed_df, connection)\n",
    "    \n",
    "    # Close the connection\n",
    "    connection.close()\n",
    "    print(\"Database connection closed.\")"
   ]
  }
 ],
 "metadata": {
  "kernelspec": {
   "display_name": "venv",
   "language": "python",
   "name": "python3"
  },
  "language_info": {
   "codemirror_mode": {
    "name": "ipython",
    "version": 3
   },
   "file_extension": ".py",
   "mimetype": "text/x-python",
   "name": "python",
   "nbconvert_exporter": "python",
   "pygments_lexer": "ipython3",
   "version": "3.11.9"
  }
 },
 "nbformat": 4,
 "nbformat_minor": 5
}
